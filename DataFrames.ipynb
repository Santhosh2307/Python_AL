{
  "nbformat": 4,
  "nbformat_minor": 0,
  "metadata": {
    "colab": {
      "provenance": [],
      "authorship_tag": "ABX9TyMaXLSxxqDmkSJ3zEfS8FLK",
      "include_colab_link": true
    },
    "kernelspec": {
      "name": "python3",
      "display_name": "Python 3"
    },
    "language_info": {
      "name": "python"
    }
  },
  "cells": [
    {
      "cell_type": "markdown",
      "metadata": {
        "id": "view-in-github",
        "colab_type": "text"
      },
      "source": [
        "<a href=\"https://colab.research.google.com/github/Santhosh2307/Python_AL/blob/main/DataFrames.ipynb\" target=\"_parent\"><img src=\"https://colab.research.google.com/assets/colab-badge.svg\" alt=\"Open In Colab\"/></a>"
      ]
    },
    {
      "cell_type": "code",
      "source": [
        "from pyspark.sql import SparkSession"
      ],
      "metadata": {
        "id": "0kim4FIgkh4c"
      },
      "execution_count": 1,
      "outputs": []
    },
    {
      "cell_type": "code",
      "source": [
        "spark = SparkSession.builder.getOrCreate()"
      ],
      "metadata": {
        "id": "wn_AJ44vkzRH"
      },
      "execution_count": 2,
      "outputs": []
    },
    {
      "cell_type": "code",
      "execution_count": 4,
      "metadata": {
        "colab": {
          "base_uri": "https://localhost:8080/"
        },
        "id": "yXzGUhDmjJju",
        "outputId": "1c29e3d4-7c19-4c95-d0ca-c9910148019d"
      },
      "outputs": [
        {
          "output_type": "stream",
          "name": "stdout",
          "text": [
            "+------+--------+------+\n",
            "|emp_id|emp_name|salary|\n",
            "+------+--------+------+\n",
            "|   100|Santhosh| 45000|\n",
            "|   200|   Vinay| 40000|\n",
            "|   300|   Sunil| 30000|\n",
            "|   400|Dundappa| 50000|\n",
            "|   500|     Raj| 25000|\n",
            "|   600|   Madhu| 20000|\n",
            "+------+--------+------+\n",
            "\n"
          ]
        }
      ],
      "source": [
        "data_rows = [\n",
        "    (100, 'Santhosh', 45000),\n",
        "    (200, 'Vinay', 40000),\n",
        "    (300, 'Sunil', 30000),\n",
        "    (400, 'Dundappa', 50000),\n",
        "    (500, 'Raj', 25000),\n",
        "    (600, 'Madhu', 20000),\n",
        "\n",
        "]\n",
        "\n",
        "columns = [\"emp_id\", \"emp_name\", \"salary\"]\n",
        "emp_df = spark.createDataFrame(data=data_rows, schema=columns)\n",
        "emp_df.show()"
      ]
    },
    {
      "cell_type": "code",
      "source": [
        "emp_df.rdd.getNumPartitions()"
      ],
      "metadata": {
        "colab": {
          "base_uri": "https://localhost:8080/"
        },
        "id": "tvtniVtkqtq9",
        "outputId": "d2bb7c2c-b378-4b56-f6b7-c21e8d799584"
      },
      "execution_count": 7,
      "outputs": [
        {
          "output_type": "execute_result",
          "data": {
            "text/plain": [
              "2"
            ]
          },
          "metadata": {},
          "execution_count": 7
        }
      ]
    }
  ]
}